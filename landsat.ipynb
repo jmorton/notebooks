{
 "cells": [
  {
   "cell_type": "code",
   "execution_count": 48,
   "metadata": {
    "collapsed": false,
    "deletable": true,
    "editable": true
   },
   "outputs": [],
   "source": [
    "import requests\n",
    "import base64\n",
    "import numpy as np\n",
    "import xarray as xr\n",
    "import pandas as pd\n",
    "import ccd"
   ]
  },
  {
   "cell_type": "code",
   "execution_count": 49,
   "metadata": {
    "collapsed": false,
    "deletable": true,
    "editable": true
   },
   "outputs": [],
   "source": [
    "import logging\n",
    "log = logging.getLogger()\n",
    "log.setLevel(logging.ERROR)"
   ]
  },
  {
   "cell_type": "code",
   "execution_count": 7,
   "metadata": {
    "collapsed": false,
    "deletable": true,
    "editable": true
   },
   "outputs": [],
   "source": [
    "specs = requests.get('http://localhost:5678/tile-specs').json()\n",
    "specs_map = dict([ [spec['ubid'], spec ] for spec in specs])"
   ]
  },
  {
   "cell_type": "code",
   "execution_count": 20,
   "metadata": {
    "collapsed": true,
    "deletable": true,
    "editable": true
   },
   "outputs": [],
   "source": [
    "spectral_map = {\n",
    "    'blue':[\n",
    "        'LANDSAT_4/TM/sr_band1',\n",
    "        'LANDSAT_5/TM/sr_band1',\n",
    "        'LANDSAT_7/ETM/sr_band1',\n",
    "        'LANDSAT_8/OLI_TIRS/sr_band2'\n",
    "    ],\n",
    "    'green':[\n",
    "        'LANDSAT_4/TM/sr_band2',\n",
    "        'LANDSAT_5/TM/sr_band2',\n",
    "        'LANDSAT_7/ETM/sr_band2',\n",
    "        'LANDSAT_8/OLI_TIRS/sr_band3'\n",
    "    ],\n",
    "    'red':[\n",
    "        'LANDSAT_4/TM/sr_band3',\n",
    "        'LANDSAT_5/TM/sr_band3',\n",
    "        'LANDSAT_7/ETM/sr_band3',\n",
    "        'LANDSAT_8/OLI_TIRS/sr_band4'\n",
    "    ],\n",
    "    'nir':[\n",
    "        'LANDSAT_4/TM/sr_band4',\n",
    "        'LANDSAT_5/TM/sr_band4',\n",
    "        'LANDSAT_7/ETM/sr_band4',\n",
    "        'LANDSAT_8/OLI_TIRS/sr_band5'\n",
    "    ],\n",
    "    'swir1':[\n",
    "        'LANDSAT_4/TM/sr_band5',\n",
    "        'LANDSAT_5/TM/sr_band5',\n",
    "        'LANDSAT_7/ETM/sr_band5',\n",
    "        'LANDSAT_8/OLI_TIRS/sr_band6'\n",
    "    ],\n",
    "    'swir2':[\n",
    "        'LANDSAT_4/TM/sr_band7',\n",
    "        'LANDSAT_5/TM/sr_band7',\n",
    "        'LANDSAT_7/ETM/sr_band7',\n",
    "        'LANDSAT_8/OLI_TIRS/sr_band7'\n",
    "    ],\n",
    "    'thermal':[\n",
    "        'LANDSAT_4/TM/toa_band6',\n",
    "        'LANDSAT_5/TM/toa_band6',\n",
    "        'LANDSAT_7/ETM/toa_band6',\n",
    "        'LANDSAT_8/OLI_TIRS/toa_band10'\n",
    "    ],\n",
    "    'cfmask':[\n",
    "        'LANDSAT_4/TM/cfmask',\n",
    "        'LANDSAT_5/TM/cfmask',\n",
    "        'LANDSAT_7/ETM/cfmask',\n",
    "        'LANDSAT_8/OLI_TIRS/cfmask'\n",
    "    ]}"
   ]
  },
  {
   "cell_type": "code",
   "execution_count": 19,
   "metadata": {
    "collapsed": true,
    "deletable": true,
    "editable": true
   },
   "outputs": [],
   "source": [
    "numpy_type_map = {\n",
    "    'UINT8'   : np.uint8,\n",
    "    'UINT16'  : np.uint16,\n",
    "    'INT8'    : np.int8,\n",
    "    'INT16'   : np.int16\n",
    "}"
   ]
  },
  {
   "cell_type": "code",
   "execution_count": 107,
   "metadata": {
    "collapsed": false,
    "deletable": true,
    "editable": true
   },
   "outputs": [],
   "source": [
    "def as_numpy_array(tile):\n",
    "    \"\"\"Oh my goodness.\"\"\"\n",
    "    spec       = specs_map[tile['ubid']]\n",
    "    np_type    = numpy_type_map[spec['data_type']]\n",
    "    shape      = specs_map[spec['ubid']]['data_shape']\n",
    "    buffer     = base64.b64decode(tile['data'])\n",
    "    return np.frombuffer(buffer, np_type).reshape(*shape)"
   ]
  },
  {
   "cell_type": "code",
   "execution_count": 109,
   "metadata": {
    "collapsed": true,
    "deletable": true,
    "editable": true
   },
   "outputs": [],
   "source": [
    "def landsat_dataset(spectrum, x, y, t, ubid):\n",
    "    \"\"\"Oh my damn.\"\"\"\n",
    "    tile_url = 'http://localhost:5678/tiles'\n",
    "    query    = {'ubid':ubid, 'x':x, 'y':y, 'acquired':t}\n",
    "    tiles    = requests.get(tile_url, params = query).json()\n",
    "    rasters  = xr.DataArray([as_numpy_array(tile) for tile in tiles])\n",
    "\n",
    "    ds = xr.Dataset()\n",
    "    ds[ubid] = (('t','x','y'), rasters)\n",
    "    ds[ubid].attrs = {'color':spectrum}\n",
    "    ds.coords['t'] = (('t'), pd.to_datetime([t['acquired'] for t in tiles]))\n",
    "    ds.coords['source'] = (('t'), [t['source'] for t in tiles])\n",
    "    ds.coords['acquired'] = (('t'), [t['acquired'] for t in tiles])\n",
    "    return ds"
   ]
  },
  {
   "cell_type": "code",
   "execution_count": 110,
   "metadata": {
    "collapsed": false,
    "deletable": true,
    "editable": true
   },
   "outputs": [],
   "source": [
    "def rainbow(x,y,t):\n",
    "    \"\"\"I wish you could smell what I'm smelling.\"\"\"\n",
    "    ds = xr.Dataset()\n",
    "    \n",
    "    for (spectrum, ubids) in spectral_map.items():\n",
    "        for ubid in ubids:\n",
    "            band = landsat_dataset(spectrum, x, y, t, ubid)\n",
    "            if band:\n",
    "                ds = ds.merge(band)\n",
    "     \n",
    "    return ds"
   ]
  },
  {
   "cell_type": "code",
   "execution_count": 111,
   "metadata": {
    "collapsed": false,
    "deletable": true,
    "editable": true
   },
   "outputs": [],
   "source": [
    "def detect(rainbow, x, y):\n",
    "    \"\"\"The fry bites back.\"\"\"\n",
    "    return ccd.detect(blues    = np.array(rainbow['blue'].values[:,x,y]),\n",
    "                      greens   = np.array(rainbow['green'].values[:,x,y]),\n",
    "                      reds     = np.array(rainbow['red'].values[:,x,y]),\n",
    "                      nirs     = np.array(rainbow['nir'].values[:,x,y]),\n",
    "                      swir1s   = np.array(rainbow['swir1'].values[:,x,y]),\n",
    "                      swir2s   = np.array(rainbow['swir2'].values[:,x,y]),\n",
    "                      thermals = np.array(rainbow['thermal'].values[:,x,y]),\n",
    "                      quality  = np.array(rainbow['cfmask'].values[:,x,y]),\n",
    "                      dates    = list(rainbow['acquired']))"
   ]
  },
  {
   "cell_type": "code",
   "execution_count": 115,
   "metadata": {
    "collapsed": false,
    "deletable": true,
    "editable": true
   },
   "outputs": [],
   "source": [
    "# not yet...\n",
    "# dataset_2 = rainbow(1823415, 2342805, '1980-01-01/2020-01-01')"
   ]
  },
  {
   "cell_type": "code",
   "execution_count": 113,
   "metadata": {
    "collapsed": false,
    "deletable": true,
    "editable": true
   },
   "outputs": [],
   "source": [
    "dataset = rainbow(1931415, 2414805, '1980-01-01/2020-01-01')"
   ]
  },
  {
   "cell_type": "code",
   "execution_count": 105,
   "metadata": {
    "collapsed": false,
    "deletable": true,
    "editable": true
   },
   "outputs": [
    {
     "data": {
      "text/plain": [
       "<xarray.Dataset>\n",
       "Dimensions:   (t: 386, x: 100, y: 100)\n",
       "Coordinates:\n",
       "  * t         (t) datetime64[ns] 1982-12-31 1983-02-01 1984-06-19 1984-09-07 ...\n",
       "    source    (t) object 'LT040120301982365-SC20170107023552' ...\n",
       "    acquired  (t) object '1982-12-31T00:00:00Z' '1983-02-01T00:00:00Z' ...\n",
       "Dimensions without coordinates: x, y\n",
       "Data variables:\n",
       "    blue      (t, x, y) float64 456.0 411.0 342.0 338.0 408.0 442.0 340.0 ...\n",
       "    swir2     (t, x, y) float64 1.087e+03 549.0 202.0 145.0 519.0 736.0 ...\n",
       "    nir       (t, x, y) float64 1.619e+03 816.0 467.0 954.0 1.636e+03 ...\n",
       "    green     (t, x, y) float64 686.0 459.0 301.0 437.0 592.0 625.0 565.0 ...\n",
       "    cfmask    (t, x, y) object 0 0 1 0 0 0 0 0 0 0 0 0 0 0 0 0 0 0 0 0 0 0 0 ...\n",
       "    red       (t, x, y) float64 767.0 572.0 425.0 436.0 544.0 529.0 486.0 ...\n",
       "    swir1     (t, x, y) float64 1.893e+03 798.0 416.0 785.0 1.314e+03 ...\n",
       "    thermal   (t, x, y) float64 2.696e+03 2.696e+03 2.697e+03 2.692e+03 ..."
      ]
     },
     "execution_count": 105,
     "metadata": {},
     "output_type": "execute_result"
    }
   ],
   "source": [
    "dataset"
   ]
  },
  {
   "cell_type": "code",
   "execution_count": 97,
   "metadata": {
    "collapsed": false,
    "deletable": true,
    "editable": true
   },
   "outputs": [
    {
     "data": {
      "text/plain": [
       "array([  767.,  1632.,   566.,   431.,  2828.,   815.,  3099.,  3501.,\n",
       "         899.,  1691.])"
      ]
     },
     "execution_count": 97,
     "metadata": {},
     "output_type": "execute_result"
    }
   ],
   "source": [
    "dataset['red'].values[0:10,0,0]"
   ]
  },
  {
   "cell_type": "code",
   "execution_count": 100,
   "metadata": {
    "collapsed": false,
    "deletable": true,
    "editable": true
   },
   "outputs": [
    {
     "data": {
      "text/plain": [
       "array([  456.,  1775.,   557.,   286.,  2766.,   472.,  3076.,  2978.,\n",
       "         572.,  1557.])"
      ]
     },
     "execution_count": 100,
     "metadata": {},
     "output_type": "execute_result"
    }
   ],
   "source": [
    "dataset['blue'].values[0:10,0,0]"
   ]
  },
  {
   "cell_type": "code",
   "execution_count": 102,
   "metadata": {
    "collapsed": false,
    "deletable": true,
    "editable": true
   },
   "outputs": [
    {
     "data": {
      "text/plain": [
       "array([  686.,  1836.,   814.,   520.,  2841.,   618.,  3116.,  3152.,\n",
       "         803.,  1710.])"
      ]
     },
     "execution_count": 102,
     "metadata": {},
     "output_type": "execute_result"
    }
   ],
   "source": [
    "dataset['green'].values[0:10,0,0]"
   ]
  },
  {
   "cell_type": "code",
   "execution_count": 104,
   "metadata": {
    "collapsed": false,
    "deletable": true,
    "editable": true
   },
   "outputs": [
    {
     "data": {
      "text/plain": [
       "array([0, 2, 0, 0, 4, 0, 4, 3, 0, 0], dtype=object)"
      ]
     },
     "execution_count": 104,
     "metadata": {},
     "output_type": "execute_result"
    }
   ],
   "source": [
    "dataset['cfmask'].values[0:10,0,0]"
   ]
  },
  {
   "cell_type": "code",
   "execution_count": 91,
   "metadata": {
    "collapsed": false,
    "deletable": true,
    "editable": true
   },
   "outputs": [],
   "source": [
    "some_results = [detect(dataset, x, y) for x in range(0, 10) for y in range(0, 10)]"
   ]
  },
  {
   "cell_type": "code",
   "execution_count": 92,
   "metadata": {
    "collapsed": false,
    "deletable": true,
    "editable": true
   },
   "outputs": [
    {
     "data": {
      "text/plain": [
       "{'algorithm': 'lcmap-pyccd:1.0.3.b1',\n",
       " 'change_models': [],\n",
       " 'procedure': 'standard_procedure',\n",
       " 'processing_mask': array([ True], dtype=bool)}"
      ]
     },
     "execution_count": 92,
     "metadata": {},
     "output_type": "execute_result"
    }
   ],
   "source": [
    "some_results[3]"
   ]
  }
 ],
 "metadata": {
  "kernelspec": {
   "display_name": "Python 3",
   "language": "python",
   "name": "python3"
  },
  "language_info": {
   "codemirror_mode": {
    "name": "ipython",
    "version": 3
   },
   "file_extension": ".py",
   "mimetype": "text/x-python",
   "name": "python",
   "nbconvert_exporter": "python",
   "pygments_lexer": "ipython3",
   "version": "3.5.2"
  }
 },
 "nbformat": 4,
 "nbformat_minor": 2
}
